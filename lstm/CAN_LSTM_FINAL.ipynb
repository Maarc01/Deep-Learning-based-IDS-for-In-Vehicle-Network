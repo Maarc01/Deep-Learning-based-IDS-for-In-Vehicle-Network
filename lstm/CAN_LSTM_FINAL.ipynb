{
  "nbformat": 4,
  "nbformat_minor": 0,
  "metadata": {
    "colab": {
      "name": "Untitled",
      "provenance": [],
      "collapsed_sections": []
    },
    "kernelspec": {
      "display_name": "Python 3",
      "name": "python3"
    },
    "accelerator": "GPU"
  },
  "cells": [
    {
      "cell_type": "code",
      "metadata": {
        "id": "SSWyi1BIWRxJ"
      },
      "source": [
        "#importing libraries\n",
        "import pandas as pd\n",
        "import numpy as np\n",
        "from keras.models import Sequential\n",
        "from keras.layers import Dense\n",
        "from keras.layers import LSTM\n",
        "from keras.layers import Dropout\n",
        "from keras import optimizers\n"
      ],
      "execution_count": 1,
      "outputs": []
    },
    {
      "cell_type": "code",
      "metadata": {
        "id": "0KUH-DlJZmX8"
      },
      "source": [
        "# Load training and testing dataset\n",
        "train = pd.read_csv(\"https://raw.githubusercontent.com/ayaafathy/Deep-Learning-based-IDS-for-In-Vehicle-Network/main/Datasets/FinalDataset2.csv\")\n",
        "test = pd.read_csv(\"https://raw.githubusercontent.com/ayaafathy/Deep-Learning-based-IDS-for-In-Vehicle-Network/main/Datasets/testdataset.csv\")"
      ],
      "execution_count": null,
      "outputs": []
    },
    {
      "cell_type": "code",
      "metadata": {
        "id": "8R9EzVNAalU1"
      },
      "source": [
        "#Selecting the features to be trained\n",
        "train_proccessed = train.iloc[:, 0:13]\n",
        "test_procecssed = test.iloc[:, 0:13]\n",
        "\n",
        "#Reshaping Data for the LSTM Model\n",
        "features_set=train_proccessed.drop(['Label'],axis=1)\n",
        "labels=train_proccessed['Label']\n",
        "labels=np.matrix(labels).reshape((393763,1))\n",
        "\n",
        "test_set=test_procecssed.drop(['Label'],axis=1)\n",
        "testlabels=test_procecssed['Label']\n",
        "testlabels=np.matrix(testlabels).reshape((403858,1))\n",
        "\n",
        "features_set, labels = np.array(features_set), np.array(labels)\n",
        "test_set, testlabels = np.array(test_set), np.array(testlabels)\n",
        "\n",
        "\n",
        "features_set = np.reshape(features_set, (features_set.shape[0], features_set.shape[1], 1))\n",
        "test_set = np.reshape(test_set, (test_set.shape[0], test_set.shape[1], 1))\n"
      ],
      "execution_count": null,
      "outputs": []
    },
    {
      "cell_type": "code",
      "metadata": {
        "id": "Qeuu1jw9gGMc"
      },
      "source": [
        ""
      ],
      "execution_count": null,
      "outputs": []
    },
    {
      "cell_type": "code",
      "metadata": {
        "id": "h-gOqh7cgJXR"
      },
      "source": [
        "\n"
      ],
      "execution_count": null,
      "outputs": []
    },
    {
      "cell_type": "code",
      "metadata": {
        "id": "pf2CRnpIgOpg",
        "colab": {
          "base_uri": "https://localhost:8080/"
        },
        "outputId": "e3034fe1-4b5c-4503-c3ec-77d9d238c274"
      },
      "source": [
        "# LSTM Model Strucutre & Hyperparameters\n",
        "model = Sequential()\n",
        "model.add(LSTM(128, return_sequences=False,  activation='sigmoid', input_shape=(features_set.shape[1], 1)))\n",
        "model.add(Dense(4, activation='softmax'))\n",
        "opt = optimizers.Adam(lr=0.0001)\n",
        "model.compile(optimizer = opt , loss = 'sparse_categorical_crossentropy', metrics = ['accuracy'])"
      ],
      "execution_count": null,
      "outputs": [
        {
          "output_type": "stream",
          "text": [
            "WARNING:tensorflow:Layer lstm_1 will not use cuDNN kernel since it doesn't meet the cuDNN kernel criteria. It will use generic GPU kernel as fallback when running on GPU\n"
          ],
          "name": "stdout"
        }
      ]
    },
    {
      "cell_type": "markdown",
      "metadata": {
        "id": "BcPu0lZQHVjF"
      },
      "source": [
        ""
      ]
    },
    {
      "cell_type": "markdown",
      "metadata": {
        "id": "tP6FN3zrHV83"
      },
      "source": [
        ""
      ]
    },
    {
      "cell_type": "code",
      "metadata": {
        "colab": {
          "base_uri": "https://localhost:8080/"
        },
        "id": "wpf7gWYjgdm4",
        "outputId": "3e1aa9b2-25d7-472d-80a6-f79c0c470bf9"
      },
      "source": [
        " #Training Model on the Training Dataset\n",
        " model.fit(features_set, labels, epochs = 40, batch_size = 512)"
      ],
      "execution_count": null,
      "outputs": [
        {
          "output_type": "stream",
          "text": [
            "Epoch 1/40\n",
            "770/770 [==============================] - 16s 20ms/step - loss: 1.1040 - accuracy: 0.4803\n",
            "Epoch 2/40\n",
            "770/770 [==============================] - 15s 20ms/step - loss: 0.7086 - accuracy: 0.7105\n",
            "Epoch 3/40\n",
            "770/770 [==============================] - 15s 19ms/step - loss: 0.5635 - accuracy: 0.8347\n",
            "Epoch 4/40\n",
            "770/770 [==============================] - 15s 20ms/step - loss: 0.2989 - accuracy: 0.8975\n",
            "Epoch 5/40\n",
            "770/770 [==============================] - 15s 20ms/step - loss: 0.3140 - accuracy: 0.9440\n",
            "Epoch 6/40\n",
            "770/770 [==============================] - 15s 20ms/step - loss: 0.1845 - accuracy: 0.9606\n",
            "Epoch 7/40\n",
            "770/770 [==============================] - 15s 20ms/step - loss: 0.2276 - accuracy: 0.9374\n",
            "Epoch 8/40\n",
            "770/770 [==============================] - 15s 20ms/step - loss: 0.0735 - accuracy: 0.9881\n",
            "Epoch 9/40\n",
            "770/770 [==============================] - 15s 20ms/step - loss: 0.0982 - accuracy: 0.9788\n",
            "Epoch 10/40\n",
            "770/770 [==============================] - 15s 20ms/step - loss: 0.0516 - accuracy: 0.9901\n",
            "Epoch 11/40\n",
            "770/770 [==============================] - 15s 20ms/step - loss: 0.0951 - accuracy: 0.9792\n",
            "Epoch 12/40\n",
            "770/770 [==============================] - 15s 20ms/step - loss: 0.0590 - accuracy: 0.9892\n",
            "Epoch 13/40\n",
            "770/770 [==============================] - 15s 20ms/step - loss: 0.0410 - accuracy: 0.9912\n",
            "Epoch 14/40\n",
            "770/770 [==============================] - 15s 20ms/step - loss: 0.0312 - accuracy: 0.9925\n",
            "Epoch 15/40\n",
            "770/770 [==============================] - 15s 20ms/step - loss: 0.0372 - accuracy: 0.9899\n",
            "Epoch 16/40\n",
            "770/770 [==============================] - 15s 20ms/step - loss: 0.0302 - accuracy: 0.9928\n",
            "Epoch 17/40\n",
            "770/770 [==============================] - 15s 20ms/step - loss: 0.0282 - accuracy: 0.9933\n",
            "Epoch 18/40\n",
            "770/770 [==============================] - 15s 20ms/step - loss: 0.0227 - accuracy: 0.9950\n",
            "Epoch 19/40\n",
            "770/770 [==============================] - 15s 20ms/step - loss: 0.0196 - accuracy: 0.9958\n",
            "Epoch 20/40\n",
            "770/770 [==============================] - 15s 20ms/step - loss: 0.0183 - accuracy: 0.9963\n",
            "Epoch 21/40\n",
            "770/770 [==============================] - 15s 20ms/step - loss: 0.0223 - accuracy: 0.9952\n",
            "Epoch 22/40\n",
            "770/770 [==============================] - 15s 20ms/step - loss: 0.0165 - accuracy: 0.9984\n",
            "Epoch 23/40\n",
            "770/770 [==============================] - 15s 20ms/step - loss: 0.0136 - accuracy: 0.9987\n",
            "Epoch 24/40\n",
            "770/770 [==============================] - 15s 20ms/step - loss: 0.0128 - accuracy: 0.9986\n",
            "Epoch 25/40\n",
            "770/770 [==============================] - 15s 20ms/step - loss: 0.0115 - accuracy: 0.9988\n",
            "Epoch 26/40\n",
            "770/770 [==============================] - 15s 20ms/step - loss: 0.0093 - accuracy: 0.9993\n",
            "Epoch 27/40\n",
            "770/770 [==============================] - 15s 20ms/step - loss: 0.0085 - accuracy: 0.9992\n",
            "Epoch 28/40\n",
            "770/770 [==============================] - 15s 20ms/step - loss: 0.0136 - accuracy: 0.9968\n",
            "Epoch 29/40\n",
            "770/770 [==============================] - 15s 20ms/step - loss: 0.0062 - accuracy: 0.9997\n",
            "Epoch 30/40\n",
            "770/770 [==============================] - 15s 20ms/step - loss: 0.0054 - accuracy: 0.9998\n",
            "Epoch 31/40\n",
            "770/770 [==============================] - 15s 20ms/step - loss: 0.0048 - accuracy: 0.9998\n",
            "Epoch 32/40\n",
            "770/770 [==============================] - 15s 20ms/step - loss: 0.0042 - accuracy: 0.9999\n",
            "Epoch 33/40\n",
            "770/770 [==============================] - 16s 20ms/step - loss: 0.0032 - accuracy: 0.9999\n",
            "Epoch 34/40\n",
            "770/770 [==============================] - 15s 20ms/step - loss: 0.0027 - accuracy: 0.9999\n",
            "Epoch 35/40\n",
            "770/770 [==============================] - 16s 20ms/step - loss: 0.0198 - accuracy: 0.9959\n",
            "Epoch 36/40\n",
            "770/770 [==============================] - 16s 20ms/step - loss: 0.0020 - accuracy: 0.9999\n",
            "Epoch 37/40\n",
            "770/770 [==============================] - 16s 21ms/step - loss: 0.0018 - accuracy: 0.9999\n",
            "Epoch 38/40\n",
            "770/770 [==============================] - 16s 20ms/step - loss: 0.0016 - accuracy: 0.9999\n",
            "Epoch 39/40\n",
            "770/770 [==============================] - 16s 20ms/step - loss: 0.0014 - accuracy: 0.9999\n",
            "Epoch 40/40\n",
            "770/770 [==============================] - 16s 20ms/step - loss: 0.0012 - accuracy: 0.9999\n"
          ],
          "name": "stdout"
        },
        {
          "output_type": "execute_result",
          "data": {
            "text/plain": [
              "<tensorflow.python.keras.callbacks.History at 0x7f16e80b37d0>"
            ]
          },
          "metadata": {
            "tags": []
          },
          "execution_count": 16
        }
      ]
    },
    {
      "cell_type": "code",
      "metadata": {
        "colab": {
          "base_uri": "https://localhost:8080/"
        },
        "id": "vfRB5_bB68Cs",
        "outputId": "b8607d7f-3466-47ad-8847-138df830600c"
      },
      "source": [
        "#Testing the model on the test dataset\n",
        "result=model.predict(test_set, verbose=1)\n",
        "#result=model.predict_classes(test_set, verbose=1) ///deprecated\n",
        "\n"
      ],
      "execution_count": null,
      "outputs": [
        {
          "output_type": "stream",
          "text": [
            "12621/12621 [==============================] - 29s 2ms/step\n"
          ],
          "name": "stdout"
        }
      ]
    },
    {
      "cell_type": "code",
      "metadata": {
        "id": "Mn1b8q6vIbmr"
      },
      "source": [
        "#Transforming Result into a readable array\n",
        "z = np.argmax(result,axis=1)"
      ],
      "execution_count": null,
      "outputs": []
    },
    {
      "cell_type": "code",
      "metadata": {
        "colab": {
          "base_uri": "https://localhost:8080/"
        },
        "id": "GWU3nI0SRa6D",
        "outputId": "fb29f182-a793-4d79-8746-5d989a1fd306"
      },
      "source": [
        "print(z)"
      ],
      "execution_count": null,
      "outputs": [
        {
          "output_type": "stream",
          "text": [
            "[0 1 0 ... 3 3 3]\n"
          ],
          "name": "stdout"
        }
      ]
    },
    {
      "cell_type": "code",
      "metadata": {
        "id": "bhifN9wNxUuC",
        "colab": {
          "base_uri": "https://localhost:8080/"
        },
        "outputId": "c045d450-2d0e-45cd-a1c7-5908e6f5269b"
      },
      "source": [
        "#Downloading a CSV file with the array to compare with original predictions and evaluate performance\n",
        "from google.colab import files\n",
        "np.savetxt(\"finalattempt.csv\", z, delimiter=\",\")\n",
        "files.download('finalattempt.csv')\n"
      ],
      "execution_count": null,
      "outputs": [
        {
          "output_type": "display_data",
          "data": {
            "application/javascript": [
              "\n",
              "    async function download(id, filename, size) {\n",
              "      if (!google.colab.kernel.accessAllowed) {\n",
              "        return;\n",
              "      }\n",
              "      const div = document.createElement('div');\n",
              "      const label = document.createElement('label');\n",
              "      label.textContent = `Downloading \"${filename}\": `;\n",
              "      div.appendChild(label);\n",
              "      const progress = document.createElement('progress');\n",
              "      progress.max = size;\n",
              "      div.appendChild(progress);\n",
              "      document.body.appendChild(div);\n",
              "\n",
              "      const buffers = [];\n",
              "      let downloaded = 0;\n",
              "\n",
              "      const channel = await google.colab.kernel.comms.open(id);\n",
              "      // Send a message to notify the kernel that we're ready.\n",
              "      channel.send({})\n",
              "\n",
              "      for await (const message of channel.messages) {\n",
              "        // Send a message to notify the kernel that we're ready.\n",
              "        channel.send({})\n",
              "        if (message.buffers) {\n",
              "          for (const buffer of message.buffers) {\n",
              "            buffers.push(buffer);\n",
              "            downloaded += buffer.byteLength;\n",
              "            progress.value = downloaded;\n",
              "          }\n",
              "        }\n",
              "      }\n",
              "      const blob = new Blob(buffers, {type: 'application/binary'});\n",
              "      const a = document.createElement('a');\n",
              "      a.href = window.URL.createObjectURL(blob);\n",
              "      a.download = filename;\n",
              "      div.appendChild(a);\n",
              "      a.click();\n",
              "      div.remove();\n",
              "    }\n",
              "  "
            ],
            "text/plain": [
              "<IPython.core.display.Javascript object>"
            ]
          },
          "metadata": {
            "tags": []
          }
        },
        {
          "output_type": "display_data",
          "data": {
            "application/javascript": [
              "download(\"download_17fbc8d0-f2bf-4acf-a0a0-cd69f7dea5a5\", \"finalattempt.csv\", 10096450)"
            ],
            "text/plain": [
              "<IPython.core.display.Javascript object>"
            ]
          },
          "metadata": {
            "tags": []
          }
        }
      ]
    }
  ]
}